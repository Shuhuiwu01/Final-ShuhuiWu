{
 "cells": [
  {
   "cell_type": "markdown",
   "metadata": {},
   "source": [
    "# MC316 Final Exam – Part B: PYTHON"
   ]
  },
  {
   "cell_type": "markdown",
   "metadata": {},
   "source": [
    "* You will have 1 hour and 40 minutes to finish the test.\n",
    "* This part includes 10 questions. Each question is worth 15 points.\n",
    "* You get extra 30 points for full answers.\n",
    "* Please read the instructions carefully. "
   ]
  },
  {
   "cell_type": "markdown",
   "metadata": {},
   "source": [
    "## I. SET UP\n"
   ]
  },
  {
   "cell_type": "markdown",
   "metadata": {},
   "source": [
    "### Import pandas library for use in scripting. "
   ]
  },
  {
   "cell_type": "code",
   "execution_count": 126,
   "metadata": {},
   "outputs": [],
   "source": [
    "import pandas as pd"
   ]
  },
  {
   "cell_type": "markdown",
   "metadata": {},
   "source": [
    "### Import the datasets and name them.\n",
    "For this test, you will analyze revenue and expenditure data released by Kansas Department of Administration for the fiscal year 2018. While the original data can be directly downloaded [here](http://kanview.ks.gov/DataDownload.aspx), for your convenience, the instructor had them uploaded to a server at the following urls. \n",
    "\n",
    "#### For Kansas State University:\n",
    "1. Expenditure data: https://datajournalism.tech/wp-content/uploads/2019/05/ExpData_367_2018.csv\n",
    "2. Revenue data: https://datajournalism.tech/wp-content/uploads/2019/05/RevData_367_2018.csv\n",
    "\n",
    "#### For University of Kansas:\n",
    "3. Expenditure data: https://datajournalism.tech/wp-content/uploads/2019/05/ExpData_682_2018.csv\n",
    "4. Revenue data: https://datajournalism.tech/wp-content/uploads/2019/05/RevData_682_2018.csv\n",
    "\n",
    "You will need to import all 4 datasets and name them in an easy way to call out later.\n",
    "\n",
    "*Please refer to the [Glossary](http://kanview.ks.gov/Glossary.aspx#f) for data description."
   ]
  },
  {
   "cell_type": "code",
   "execution_count": 127,
   "metadata": {},
   "outputs": [],
   "source": [
    "expenditure = pd.read_csv(\"https://datajournalism.tech/wp-content/uploads/2019/05/ExpData_367_2018.csv\")"
   ]
  },
  {
   "cell_type": "code",
   "execution_count": 128,
   "metadata": {},
   "outputs": [],
   "source": [
    "revenue = pd.read_csv(\"https://datajournalism.tech/wp-content/uploads/2019/05/RevData_367_2018.csv\")"
   ]
  },
  {
   "cell_type": "code",
   "execution_count": 129,
   "metadata": {},
   "outputs": [],
   "source": [
    "expenditure2 = pd.read_csv(\"https://datajournalism.tech/wp-content/uploads/2019/05/ExpData_682_2018.csv\")"
   ]
  },
  {
   "cell_type": "code",
   "execution_count": 130,
   "metadata": {},
   "outputs": [],
   "source": [
    "revenue2 = pd.read_csv(\"https://datajournalism.tech/wp-content/uploads/2019/05/RevData_682_2018.csv\")"
   ]
  },
  {
   "cell_type": "markdown",
   "metadata": {},
   "source": [
    "## II. REQUIRED QUESTIONS\n",
    "* Make sure you type the answers in the cells right below the codes.\n",
    "* If you need to add extra cells, click the + button in the toolbar up the top. "
   ]
  },
  {
   "cell_type": "markdown",
   "metadata": {},
   "source": [
    "### Q1: What is the total revenue recorded for Kansas State University in the fiscal year of 2018? How does it compare to the total revenue recorded for University of Kansas in the same year?"
   ]
  },
  {
   "cell_type": "code",
   "execution_count": 131,
   "metadata": {},
   "outputs": [
    {
     "data": {
      "text/plain": [
       "854324643.84"
      ]
     },
     "execution_count": 131,
     "metadata": {},
     "output_type": "execute_result"
    }
   ],
   "source": [
    "revenue.Total.sum()"
   ]
  },
  {
   "cell_type": "code",
   "execution_count": 132,
   "metadata": {},
   "outputs": [
    {
     "data": {
      "text/plain": [
       "808767902.55"
      ]
     },
     "execution_count": 132,
     "metadata": {},
     "output_type": "execute_result"
    }
   ],
   "source": [
    "revenue2.Total.sum()"
   ]
  },
  {
   "cell_type": "markdown",
   "metadata": {},
   "source": [
    "Answer: The total revenue recorded for K-state in the fiscal year of 2018 is higher than the total revenue recorded for University of Kansas in the same year."
   ]
  },
  {
   "cell_type": "code",
   "execution_count": 133,
   "metadata": {},
   "outputs": [
    {
     "name": "stdout",
     "output_type": "stream",
     "text": [
      "<class 'pandas.core.frame.DataFrame'>\n",
      "RangeIndex: 1910 entries, 0 to 1909\n",
      "Data columns (total 22 columns):\n",
      "Fiscal_Year                        1910 non-null int64\n",
      "Fiscal_Quarter                     1910 non-null int64\n",
      "Business_Unit                      1910 non-null int64\n",
      "Business_Unit_Descr                1910 non-null object\n",
      "GAAP_Fund_Type                     1910 non-null int64\n",
      "GAAP_Fund_Type_Descr               1910 non-null object\n",
      "Fund_Code                          1910 non-null int64\n",
      "Fund_Code_Descr                    1910 non-null object\n",
      "Budget_Ref                         1910 non-null int64\n",
      "Budget_Ref_Descr                   1910 non-null object\n",
      "Program_Code                       1910 non-null int64\n",
      "Program_Code_Descr                 1910 non-null object\n",
      "State_Function                     1910 non-null int64\n",
      "State_Function_Descr               1910 non-null object\n",
      "Primary_Account_Code               1910 non-null int64\n",
      "Primary_Account_Code_Descr         1910 non-null object\n",
      "Intermediate_Account_Code          1910 non-null int64\n",
      "Intermediate_Account_Code_Descr    1910 non-null object\n",
      "Detail_Account_Code                1910 non-null int64\n",
      "Detail_Account_Code_Descr          1910 non-null object\n",
      "Total                              1910 non-null float64\n",
      "Unnamed: 21                        0 non-null float64\n",
      "dtypes: float64(2), int64(11), object(9)\n",
      "memory usage: 328.4+ KB\n"
     ]
    }
   ],
   "source": [
    "revenue.info()"
   ]
  },
  {
   "cell_type": "markdown",
   "metadata": {},
   "source": [
    "### Q2: What is the total expense recorded for Kansas State University in the fiscal year of 2018? How does it compare to the total expense recorded for University of Kansas in the same year?"
   ]
  },
  {
   "cell_type": "code",
   "execution_count": 134,
   "metadata": {},
   "outputs": [
    {
     "data": {
      "text/plain": [
       "1018584373.02"
      ]
     },
     "execution_count": 134,
     "metadata": {},
     "output_type": "execute_result"
    }
   ],
   "source": [
    "expenditure.Total.sum()"
   ]
  },
  {
   "cell_type": "code",
   "execution_count": 135,
   "metadata": {},
   "outputs": [
    {
     "data": {
      "text/plain": [
       "990238875.6099999"
      ]
     },
     "execution_count": 135,
     "metadata": {},
     "output_type": "execute_result"
    }
   ],
   "source": [
    "expenditure2.Total.sum()"
   ]
  },
  {
   "cell_type": "markdown",
   "metadata": {},
   "source": [
    "Answer: The total expense recorded for K-STATE is also higher than the University of Kansas in the same year."
   ]
  },
  {
   "cell_type": "markdown",
   "metadata": {},
   "source": [
    "### Q3: Where did the two universities' primary revenues come from? \n",
    "*Refer to the description [here](http://kanview.ks.gov/Revenues/AcctCodeRevenues.aspx) to write your answer."
   ]
  },
  {
   "cell_type": "code",
   "execution_count": 136,
   "metadata": {},
   "outputs": [
    {
     "data": {
      "text/plain": [
       "AGENCY EARNINGS                   637\n",
       "REV FROM USE OF MONEY & PROP      354\n",
       "REVENUE TRANSFERS                 341\n",
       "NON REVENUE RECEIPTS              259\n",
       "OTHER REVENUE                     160\n",
       "GIFT DONATION FEDERAL GRANTS      152\n",
       "TAXES                               7\n",
       "Name: Primary_Account_Code_Descr, dtype: int64"
      ]
     },
     "execution_count": 136,
     "metadata": {},
     "output_type": "execute_result"
    }
   ],
   "source": [
    "revenue.Primary_Account_Code_Descr.value_counts()"
   ]
  },
  {
   "cell_type": "markdown",
   "metadata": {},
   "source": [
    "<b>Answer:</b> They are from agency earnings, use of money & prop, revenue transfers, revenue receipts, other revenue gift donation federal grants and taxes."
   ]
  },
  {
   "cell_type": "code",
   "execution_count": 137,
   "metadata": {},
   "outputs": [
    {
     "data": {
      "text/plain": [
       "AGENCY EARNINGS                   376\n",
       "REV FROM USE OF MONEY & PROP      251\n",
       "NON REVENUE RECEIPTS              157\n",
       "REVENUE TRANSFERS                 153\n",
       "OTHER REVENUE                      57\n",
       "TAXES                              45\n",
       "GIFT DONATION FEDERAL GRANTS       38\n",
       "Name: Primary_Account_Code_Descr, dtype: int64"
      ]
     },
     "execution_count": 137,
     "metadata": {},
     "output_type": "execute_result"
    }
   ],
   "source": [
    "revenue2.Primary_Account_Code_Descr.value_counts()"
   ]
  },
  {
   "cell_type": "markdown",
   "metadata": {},
   "source": [
    "### Q4: What was the biggest source of revenues for Kansas State University? Compare to the one of University of Kansas."
   ]
  },
  {
   "cell_type": "markdown",
   "metadata": {},
   "source": [
    "Remove hashtag and run the following code to suppress scientific notation:"
   ]
  },
  {
   "cell_type": "code",
   "execution_count": 138,
   "metadata": {},
   "outputs": [],
   "source": [
    "pd.set_option('display.float_format', lambda x: '%.3f' % x) "
   ]
  },
  {
   "cell_type": "code",
   "execution_count": 139,
   "metadata": {},
   "outputs": [
    {
     "data": {
      "text/plain": [
       "Primary_Account_Code_Descr\n",
       "AGENCY EARNINGS                  412565112.820\n",
       "GIFT DONATION FEDERAL GRANTS     278778848.030\n",
       "NON REVENUE RECEIPTS              71947564.050\n",
       "OTHER REVENUE                      8432030.160\n",
       "REV FROM USE OF MONEY & PROP      34139318.040\n",
       "REVENUE TRANSFERS                 48458616.490\n",
       "TAXES                                 3154.250\n",
       "Name: Total, dtype: float64"
      ]
     },
     "execution_count": 139,
     "metadata": {},
     "output_type": "execute_result"
    }
   ],
   "source": [
    "revenue.groupby(\"Primary_Account_Code_Descr\").Total.sum()"
   ]
  },
  {
   "cell_type": "code",
   "execution_count": 140,
   "metadata": {},
   "outputs": [
    {
     "data": {
      "text/plain": [
       "Primary_Account_Code_Descr\n",
       "AGENCY EARNINGS                  408409337.320\n",
       "GIFT DONATION FEDERAL GRANTS     193836668.320\n",
       "NON REVENUE RECEIPTS              69753247.670\n",
       "OTHER REVENUE                     68241930.500\n",
       "REV FROM USE OF MONEY & PROP      40950779.540\n",
       "REVENUE TRANSFERS                 26013855.400\n",
       "TAXES                              1562083.800\n",
       "Name: Total, dtype: float64"
      ]
     },
     "execution_count": 140,
     "metadata": {},
     "output_type": "execute_result"
    }
   ],
   "source": [
    "revenue2.groupby(\"Primary_Account_Code_Descr\").Total.sum()"
   ]
  },
  {
   "cell_type": "markdown",
   "metadata": {},
   "source": [
    "<b>Answer:</b>The biggest source of revenues for K-state University is agency earnings, and the amount of K-state's agency earnings are bigger than the university of Kansas."
   ]
  },
  {
   "cell_type": "markdown",
   "metadata": {},
   "source": [
    "### Q5: What accounts contributed to Kansas State University's biggest source of revenues?\n",
    "If you run into a situation where a filter function returns 0 results, you may want to check if there are leading and trailing spaces in the column. To clean the leading and trailing spaces, you will need to remove the hashtag, revise the names, and run the following code:"
   ]
  },
  {
   "cell_type": "code",
   "execution_count": 141,
   "metadata": {},
   "outputs": [],
   "source": [
    "revenue[\"Primary_Account_Code_Descr\"] = revenue[\"Primary_Account_Code_Descr\"].str.strip()"
   ]
  },
  {
   "cell_type": "markdown",
   "metadata": {},
   "source": [
    "After cleaning the spaces, you can start filtering your datasets to find the answer for Q5."
   ]
  },
  {
   "cell_type": "code",
   "execution_count": 142,
   "metadata": {
    "scrolled": true
   },
   "outputs": [],
   "source": [
    "data = revenue[revenue.Primary_Account_Code_Descr == \"AGENCY EARNINGS\"]"
   ]
  },
  {
   "cell_type": "code",
   "execution_count": 143,
   "metadata": {},
   "outputs": [
    {
     "data": {
      "text/html": [
       "<div>\n",
       "<style scoped>\n",
       "    .dataframe tbody tr th:only-of-type {\n",
       "        vertical-align: middle;\n",
       "    }\n",
       "\n",
       "    .dataframe tbody tr th {\n",
       "        vertical-align: top;\n",
       "    }\n",
       "\n",
       "    .dataframe thead th {\n",
       "        text-align: right;\n",
       "    }\n",
       "</style>\n",
       "<table border=\"1\" class=\"dataframe\">\n",
       "  <thead>\n",
       "    <tr style=\"text-align: right;\">\n",
       "      <th></th>\n",
       "      <th>Fiscal_Year</th>\n",
       "      <th>Fiscal_Quarter</th>\n",
       "      <th>Business_Unit</th>\n",
       "      <th>Business_Unit_Descr</th>\n",
       "      <th>GAAP_Fund_Type</th>\n",
       "      <th>GAAP_Fund_Type_Descr</th>\n",
       "      <th>Fund_Code</th>\n",
       "      <th>Fund_Code_Descr</th>\n",
       "      <th>Budget_Ref</th>\n",
       "      <th>Budget_Ref_Descr</th>\n",
       "      <th>...</th>\n",
       "      <th>State_Function</th>\n",
       "      <th>State_Function_Descr</th>\n",
       "      <th>Primary_Account_Code</th>\n",
       "      <th>Primary_Account_Code_Descr</th>\n",
       "      <th>Intermediate_Account_Code</th>\n",
       "      <th>Intermediate_Account_Code_Descr</th>\n",
       "      <th>Detail_Account_Code</th>\n",
       "      <th>Detail_Account_Code_Descr</th>\n",
       "      <th>Total</th>\n",
       "      <th>Unnamed: 21</th>\n",
       "    </tr>\n",
       "  </thead>\n",
       "  <tbody>\n",
       "    <tr>\n",
       "      <th>2</th>\n",
       "      <td>2018</td>\n",
       "      <td>1</td>\n",
       "      <td>367</td>\n",
       "      <td>Kansas State University</td>\n",
       "      <td>12</td>\n",
       "      <td>Component Unit</td>\n",
       "      <td>2062</td>\n",
       "      <td>GENERAL FF</td>\n",
       "      <td>2000</td>\n",
       "      <td>GENERAL FF                                    ...</td>\n",
       "      <td>...</td>\n",
       "      <td>26</td>\n",
       "      <td>Universities                                  ...</td>\n",
       "      <td>4200</td>\n",
       "      <td>AGENCY EARNINGS</td>\n",
       "      <td>42000</td>\n",
       "      <td>SERVICE CHARGES</td>\n",
       "      <td>420500</td>\n",
       "      <td>EDUCATION AND LIBRARIES</td>\n",
       "      <td>91090183.660</td>\n",
       "      <td>nan</td>\n",
       "    </tr>\n",
       "    <tr>\n",
       "      <th>7</th>\n",
       "      <td>2018</td>\n",
       "      <td>1</td>\n",
       "      <td>367</td>\n",
       "      <td>Kansas State University</td>\n",
       "      <td>12</td>\n",
       "      <td>Component Unit</td>\n",
       "      <td>2062</td>\n",
       "      <td>GENERAL FF</td>\n",
       "      <td>2000</td>\n",
       "      <td>GENERAL FF                                    ...</td>\n",
       "      <td>...</td>\n",
       "      <td>26</td>\n",
       "      <td>Universities                                  ...</td>\n",
       "      <td>4200</td>\n",
       "      <td>AGENCY EARNINGS</td>\n",
       "      <td>42000</td>\n",
       "      <td>SERVICE CHARGES</td>\n",
       "      <td>420500</td>\n",
       "      <td>EDUCATION AND LIBRARIES</td>\n",
       "      <td>3260669.860</td>\n",
       "      <td>nan</td>\n",
       "    </tr>\n",
       "    <tr>\n",
       "      <th>8</th>\n",
       "      <td>2018</td>\n",
       "      <td>1</td>\n",
       "      <td>367</td>\n",
       "      <td>Kansas State University</td>\n",
       "      <td>12</td>\n",
       "      <td>Component Unit</td>\n",
       "      <td>2129</td>\n",
       "      <td>GENERAL FF</td>\n",
       "      <td>5500</td>\n",
       "      <td>GENERAL FF                                    ...</td>\n",
       "      <td>...</td>\n",
       "      <td>26</td>\n",
       "      <td>Universities                                  ...</td>\n",
       "      <td>4200</td>\n",
       "      <td>AGENCY EARNINGS</td>\n",
       "      <td>42000</td>\n",
       "      <td>SERVICE CHARGES</td>\n",
       "      <td>420500</td>\n",
       "      <td>EDUCATION AND LIBRARIES</td>\n",
       "      <td>7959879.110</td>\n",
       "      <td>nan</td>\n",
       "    </tr>\n",
       "    <tr>\n",
       "      <th>12</th>\n",
       "      <td>2018</td>\n",
       "      <td>1</td>\n",
       "      <td>367</td>\n",
       "      <td>Kansas State University</td>\n",
       "      <td>12</td>\n",
       "      <td>Component Unit</td>\n",
       "      <td>2154</td>\n",
       "      <td>KAN-GROW ENGINEERING FUND-KSU</td>\n",
       "      <td>2154</td>\n",
       "      <td>KAN-GROW ENGINEERING FUND-KSU                 ...</td>\n",
       "      <td>...</td>\n",
       "      <td>26</td>\n",
       "      <td>Universities                                  ...</td>\n",
       "      <td>4200</td>\n",
       "      <td>AGENCY EARNINGS</td>\n",
       "      <td>42000</td>\n",
       "      <td>SERVICE CHARGES</td>\n",
       "      <td>420200</td>\n",
       "      <td>TECHNICAL AND SKILLED SERVICES</td>\n",
       "      <td>3150000.000</td>\n",
       "      <td>nan</td>\n",
       "    </tr>\n",
       "    <tr>\n",
       "      <th>13</th>\n",
       "      <td>2018</td>\n",
       "      <td>1</td>\n",
       "      <td>367</td>\n",
       "      <td>Kansas State University</td>\n",
       "      <td>12</td>\n",
       "      <td>Component Unit</td>\n",
       "      <td>2263</td>\n",
       "      <td>FERTILIZER RESEARCH FD</td>\n",
       "      <td>1150</td>\n",
       "      <td>FERTILIZER RESEARCH FD                        ...</td>\n",
       "      <td>...</td>\n",
       "      <td>26</td>\n",
       "      <td>Universities                                  ...</td>\n",
       "      <td>4200</td>\n",
       "      <td>AGENCY EARNINGS</td>\n",
       "      <td>42000</td>\n",
       "      <td>SERVICE CHARGES</td>\n",
       "      <td>420100</td>\n",
       "      <td>AUDITS AND INSPECTIONS</td>\n",
       "      <td>56932.070</td>\n",
       "      <td>nan</td>\n",
       "    </tr>\n",
       "  </tbody>\n",
       "</table>\n",
       "<p>5 rows × 22 columns</p>\n",
       "</div>"
      ],
      "text/plain": [
       "    Fiscal_Year  Fiscal_Quarter  Business_Unit  \\\n",
       "2          2018               1            367   \n",
       "7          2018               1            367   \n",
       "8          2018               1            367   \n",
       "12         2018               1            367   \n",
       "13         2018               1            367   \n",
       "\n",
       "               Business_Unit_Descr  GAAP_Fund_Type  \\\n",
       "2   Kansas State University                     12   \n",
       "7   Kansas State University                     12   \n",
       "8   Kansas State University                     12   \n",
       "12  Kansas State University                     12   \n",
       "13  Kansas State University                     12   \n",
       "\n",
       "              GAAP_Fund_Type_Descr  Fund_Code                 Fund_Code_Descr  \\\n",
       "2   Component Unit                       2062  GENERAL FF                       \n",
       "7   Component Unit                       2062  GENERAL FF                       \n",
       "8   Component Unit                       2129  GENERAL FF                       \n",
       "12  Component Unit                       2154  KAN-GROW ENGINEERING FUND-KSU    \n",
       "13  Component Unit                       2263  FERTILIZER RESEARCH FD           \n",
       "\n",
       "    Budget_Ref                                   Budget_Ref_Descr  ...  \\\n",
       "2         2000  GENERAL FF                                    ...  ...   \n",
       "7         2000  GENERAL FF                                    ...  ...   \n",
       "8         5500  GENERAL FF                                    ...  ...   \n",
       "12        2154  KAN-GROW ENGINEERING FUND-KSU                 ...  ...   \n",
       "13        1150  FERTILIZER RESEARCH FD                        ...  ...   \n",
       "\n",
       "    State_Function                               State_Function_Descr  \\\n",
       "2               26  Universities                                  ...   \n",
       "7               26  Universities                                  ...   \n",
       "8               26  Universities                                  ...   \n",
       "12              26  Universities                                  ...   \n",
       "13              26  Universities                                  ...   \n",
       "\n",
       "    Primary_Account_Code Primary_Account_Code_Descr  \\\n",
       "2                   4200            AGENCY EARNINGS   \n",
       "7                   4200            AGENCY EARNINGS   \n",
       "8                   4200            AGENCY EARNINGS   \n",
       "12                  4200            AGENCY EARNINGS   \n",
       "13                  4200            AGENCY EARNINGS   \n",
       "\n",
       "    Intermediate_Account_Code Intermediate_Account_Code_Descr  \\\n",
       "2                       42000  SERVICE CHARGES                  \n",
       "7                       42000  SERVICE CHARGES                  \n",
       "8                       42000  SERVICE CHARGES                  \n",
       "12                      42000  SERVICE CHARGES                  \n",
       "13                      42000  SERVICE CHARGES                  \n",
       "\n",
       "    Detail_Account_Code       Detail_Account_Code_Descr        Total  \\\n",
       "2                420500  EDUCATION AND LIBRARIES        91090183.660   \n",
       "7                420500  EDUCATION AND LIBRARIES         3260669.860   \n",
       "8                420500  EDUCATION AND LIBRARIES         7959879.110   \n",
       "12               420200  TECHNICAL AND SKILLED SERVICES  3150000.000   \n",
       "13               420100  AUDITS AND INSPECTIONS            56932.070   \n",
       "\n",
       "   Unnamed: 21  \n",
       "2          nan  \n",
       "7          nan  \n",
       "8          nan  \n",
       "12         nan  \n",
       "13         nan  \n",
       "\n",
       "[5 rows x 22 columns]"
      ]
     },
     "execution_count": 143,
     "metadata": {},
     "output_type": "execute_result"
    }
   ],
   "source": [
    "data.head()"
   ]
  },
  {
   "cell_type": "markdown",
   "metadata": {},
   "source": [
    "<b>Answer:</b>420500 account countribute the biggest source of revenues."
   ]
  },
  {
   "cell_type": "markdown",
   "metadata": {},
   "source": [
    "### Q6: Where did the money go? (Answer for both universities)\n",
    "*Refer to the description [here] (http://kanview.ks.gov/Expenditures/AcctCodeExpenditures.aspx) to write your answer."
   ]
  },
  {
   "cell_type": "code",
   "execution_count": 144,
   "metadata": {},
   "outputs": [
    {
     "data": {
      "text/plain": [
       "CONTRACTUAL SERVICES              10561\n",
       "SALARIES AND WAGES                 7780\n",
       "COMMODITIES                        3740\n",
       "CAPITAL OUTLAY                     1173\n",
       "GRANTS CLAIMS SHARED REVENUE        534\n",
       "NONEXPENSE ITEMS                    129\n",
       "EXPENSE TRANSFERS                   106\n",
       "DEBT SERVICE                         71\n",
       "Name: Primary_Account_Code_Descr, dtype: int64"
      ]
     },
     "execution_count": 144,
     "metadata": {},
     "output_type": "execute_result"
    }
   ],
   "source": [
    "expenditure.Primary_Account_Code_Descr.value_counts()"
   ]
  },
  {
   "cell_type": "code",
   "execution_count": 145,
   "metadata": {},
   "outputs": [
    {
     "data": {
      "text/plain": [
       "CONTRACTUAL SERVICES              4322\n",
       "SALARIES AND WAGES                3623\n",
       "COMMODITIES                       1605\n",
       "CAPITAL OUTLAY                     737\n",
       "NONEXPENSE ITEMS                    81\n",
       "GRANTS CLAIMS SHARED REVENUE        75\n",
       "EXPENSE TRANSFERS                   66\n",
       "DEBT SERVICE                        44\n",
       "Name: Primary_Account_Code_Descr, dtype: int64"
      ]
     },
     "execution_count": 145,
     "metadata": {},
     "output_type": "execute_result"
    }
   ],
   "source": [
    "expenditure2.Primary_Account_Code_Descr.value_counts()"
   ]
  },
  {
   "cell_type": "markdown",
   "metadata": {},
   "source": [
    "<b>Answer:</b> The money goes to cintractual services, salaries and wages, commodities, capital outlay, grants claims shared revenue, debit service, expense transfers, nonexpense items."
   ]
  },
  {
   "cell_type": "markdown",
   "metadata": {},
   "source": [
    "### Q7: What costs two universities the most? "
   ]
  },
  {
   "cell_type": "code",
   "execution_count": 146,
   "metadata": {},
   "outputs": [
    {
     "data": {
      "text/plain": [
       "Primary_Account_Code_Descr\n",
       "CAPITAL OUTLAY                    64350550.130\n",
       "COMMODITIES                       42670908.840\n",
       "CONTRACTUAL SERVICES             128541598.280\n",
       "DEBT SERVICE                      32442445.100\n",
       "EXPENSE TRANSFERS                 37130576.230\n",
       "GRANTS CLAIMS SHARED REVENUE     106551248.640\n",
       "NONEXPENSE ITEMS                 130529992.790\n",
       "SALARIES AND WAGES               476367053.010\n",
       "Name: Total, dtype: float64"
      ]
     },
     "execution_count": 146,
     "metadata": {},
     "output_type": "execute_result"
    }
   ],
   "source": [
    "expenditure.groupby(\"Primary_Account_Code_Descr\").Total.sum()"
   ]
  },
  {
   "cell_type": "code",
   "execution_count": 147,
   "metadata": {},
   "outputs": [
    {
     "data": {
      "text/plain": [
       "Primary_Account_Code_Descr\n",
       "CAPITAL OUTLAY                    70676545.250\n",
       "COMMODITIES                       24225857.120\n",
       "CONTRACTUAL SERVICES             139630507.780\n",
       "DEBT SERVICE                      25309742.030\n",
       "EXPENSE TRANSFERS                 25815417.520\n",
       "GRANTS CLAIMS SHARED REVENUE      71439705.360\n",
       "NONEXPENSE ITEMS                 161145084.400\n",
       "SALARIES AND WAGES               471996016.150\n",
       "Name: Total, dtype: float64"
      ]
     },
     "execution_count": 147,
     "metadata": {},
     "output_type": "execute_result"
    }
   ],
   "source": [
    "expenditure2.groupby(\"Primary_Account_Code_Descr\").Total.sum()"
   ]
  },
  {
   "cell_type": "markdown",
   "metadata": {},
   "source": [
    "<b>Answer:</b> Salaries and wages costs two universities the most."
   ]
  },
  {
   "cell_type": "markdown",
   "metadata": {},
   "source": [
    "### Q8: Calculate the percentage of this cost over each university's total expense."
   ]
  },
  {
   "cell_type": "code",
   "execution_count": 148,
   "metadata": {},
   "outputs": [
    {
     "data": {
      "text/plain": [
       "0.4676755952946929"
      ]
     },
     "execution_count": 148,
     "metadata": {},
     "output_type": "execute_result"
    }
   ],
   "source": [
    "476367053.010/1018584373.02"
   ]
  },
  {
   "cell_type": "code",
   "execution_count": 149,
   "metadata": {},
   "outputs": [
    {
     "data": {
      "text/plain": [
       "0.47664864284311637"
      ]
     },
     "execution_count": 149,
     "metadata": {},
     "output_type": "execute_result"
    }
   ],
   "source": [
    "471996016.150/990238875.6099999"
   ]
  },
  {
   "cell_type": "markdown",
   "metadata": {},
   "source": [
    "<b>Answer:</b> The persentage of the Kansas state university is 46.76%, and the persentafe of the University of Kansas is 47.66%."
   ]
  },
  {
   "cell_type": "markdown",
   "metadata": {},
   "source": [
    "### Q9: Breakdown the cost you found in Q7 for both universities.\n",
    "Again, if you run into a situation where a filter function returns 0 results, you may want to check if there are leading and trailing spaces in the column. To clean the leading and trailing spaces, you will need to remove the hashtag, revise the names, and run the following code:"
   ]
  },
  {
   "cell_type": "code",
   "execution_count": 150,
   "metadata": {},
   "outputs": [],
   "source": [
    "expenditure[\"Primary_Account_Code_Descr\"] = expenditure[\"Primary_Account_Code_Descr\"].str.strip()"
   ]
  },
  {
   "cell_type": "code",
   "execution_count": 151,
   "metadata": {},
   "outputs": [],
   "source": [
    "data2 = expenditure[expenditure.Primary_Account_Code_Descr == \"SALARIES AND WAGES\"]"
   ]
  },
  {
   "cell_type": "code",
   "execution_count": 154,
   "metadata": {},
   "outputs": [
    {
     "data": {
      "text/plain": [
       "WORKERS COMPENSATION              576\n",
       "LEAVE PAYMENT ASSESSMENTS         575\n",
       "UNEMPLOYMENT COMPENSATION         542\n",
       "MEDICARE                          541\n",
       "OASDI                             534\n",
       "UNCLASSIFIED REGULAR              525\n",
       "UNCLASS HOLIDAY INCL IN BASE      510\n",
       "GROUP HEALTH HOSPITALIZATION      505\n",
       "EDUCATIONAL INST EE RETIRE SYS    474\n",
       "PARKING COMPENSATION REDUCTION    468\n",
       "STUDENT EMPLOYEES HOURLY          434\n",
       "PUBLIC EE RETIREMENT SYSTEM       384\n",
       "PRO SCIENTIFIC SUPPLY OTHER       366\n",
       "ED INST EE GRP LIFE DISABILITY    364\n",
       "OTHER FEES                        347\n",
       "INTERGOV OTHER COMM NOT OITS      328\n",
       "INTERGOV LCL COMM SVC NON OITS    325\n",
       "DATA PROCESSING SUPPLIES          325\n",
       "STATIONERY AND OFFICE SUPPLIES    313\n",
       "JOB RELATED TRAIN & CONF REG      312\n",
       "INTERGOV LD COMM SVC NOT OITS     306\n",
       "MEALS AND LODGING OUT STATE       300\n",
       "OTHER PROFESSIONAL FEES           299\n",
       "PRINT BIND STATE FACILITY ONLY    293\n",
       "AIR RAIL & BUS FARE OUT STATE     284\n",
       "UNCLASSIFIED TEMPORARY            275\n",
       "REPAIR AND SVC BLDG GROUND        272\n",
       "NON SUBSISTENCE OUT STATE         268\n",
       "INTERGOV POSTAGE NOT OITS         262\n",
       "OTHER EQUIP MATERIALS PARTS       255\n",
       "                                 ... \n",
       "DATA COMMUNICATIONS EQUIPMENT       5\n",
       "OFFICE EQUIPMENT                    5\n",
       "PROPERTY DAMAGE OR LOSS CLAIMS      5\n",
       "FED AID TO LOCAL GOVERNMENT         5\n",
       "MOVING OFFICE EQUIP SUPPLIES        5\n",
       "INTERGOV LD COMM SVC CAP OITS       4\n",
       "COMPUTER PROGRAMMING CAP OITS       4\n",
       "TELECOM SWITCHING NON CAP           4\n",
       "CLASSIFIED REGULAR                  4\n",
       "PRINCIPAL AND PREMIUMS              4\n",
       "INTERGOV LCL COMM SVC OP OITS       4\n",
       "DEPR LAND IMPROVEMENTS NON CAP      4\n",
       "INTERGOV LD COMM SVC OP OITS        4\n",
       "DATA COMM EQUIP NON CAP             4\n",
       "TRUCKS NON CAP                      3\n",
       "OFF CAMPUS WORK STUDY               3\n",
       "TELECOM TRANSMISSION NON CAP        3\n",
       "ACCOUNTANTS AND AUDITORS            3\n",
       "HOUSEHOLD EQUIPMENT                 3\n",
       "MOVING EE PERS EFFECTS OUT ST       3\n",
       "FCIP-PRINCIPAL-BI-C/I               3\n",
       "RETURN OF UNEXPENDED FED GRANT      2\n",
       "ASSESSMENTS FOR IMPROVEMENTS        2\n",
       "TELECOM SWITCHING EQUIPMENT         2\n",
       "NATIONAL DIRECT STUDENT LOANS       2\n",
       "OTHER CLAIMS                        2\n",
       "ADVERTISING AND MARKETING           2\n",
       "OTHER MISC ADVANCES                 2\n",
       "RADIO EQUIP PORTABLE NON CAP        2\n",
       "MOVING EE PERS EFFECTS IN ST        1\n",
       "Name: Detail_Account_Code_Descr, Length: 217, dtype: int64"
      ]
     },
     "execution_count": 154,
     "metadata": {},
     "output_type": "execute_result"
    }
   ],
   "source": [
    "expenditure.Detail_Account_Code_Descr.value_counts()"
   ]
  },
  {
   "cell_type": "code",
   "execution_count": 163,
   "metadata": {
    "scrolled": true
   },
   "outputs": [
    {
     "name": "stdout",
     "output_type": "stream",
     "text": [
      "<class 'pandas.core.frame.DataFrame'>\n",
      "Int64Index: 7780 entries, 16 to 24089\n",
      "Data columns (total 22 columns):\n",
      "Fiscal_Year                        7780 non-null int64\n",
      "Fiscal_Quarter                     7780 non-null int64\n",
      "Business_Unit                      7780 non-null int64\n",
      "Business_Unit_Descr                7780 non-null object\n",
      "GAAP_Fund_Type                     7780 non-null int64\n",
      "GAAP_Fund_Type_Descr               7780 non-null object\n",
      "Fund_Code                          7780 non-null int64\n",
      "Fund_Code_Descr                    7780 non-null object\n",
      "Budget_Ref                         7780 non-null int64\n",
      "Budget_Ref_Descr                   7780 non-null object\n",
      "Program_Code                       7780 non-null int64\n",
      "Program_Code_Descr                 7780 non-null object\n",
      "State_Function                     7780 non-null int64\n",
      "State_Function_Descr               7780 non-null object\n",
      "Primary_Account_Code               7780 non-null int64\n",
      "Primary_Account_Code_Descr         7780 non-null object\n",
      "Intermediate_Account_Code          7780 non-null int64\n",
      "Intermediate_Account_Code_Descr    7780 non-null object\n",
      "Detail_Account_Code                7780 non-null int64\n",
      "Detail_Account_Code_Descr          7780 non-null object\n",
      "Total                              7780 non-null float64\n",
      "Unnamed: 21                        0 non-null float64\n",
      "dtypes: float64(2), int64(11), object(9)\n",
      "memory usage: 1.4+ MB\n"
     ]
    }
   ],
   "source": [
    "data2.info()"
   ]
  },
  {
   "cell_type": "code",
   "execution_count": null,
   "metadata": {},
   "outputs": [],
   "source": [
    "expenditure2[\"Primary_Account_Code_Descr\"] = expenditure2[\"Primary_Account_Code_Descr\"].str.strip()"
   ]
  },
  {
   "cell_type": "code",
   "execution_count": null,
   "metadata": {},
   "outputs": [],
   "source": [
    "data3 = expenditure2[expenditure2.Primary_Account_Code_Descr == \"SALARIES AND WAGES\"]"
   ]
  },
  {
   "cell_type": "code",
   "execution_count": 155,
   "metadata": {},
   "outputs": [
    {
     "data": {
      "text/plain": [
       "OTHER FEES                        235\n",
       "WORKERS COMPENSATION              225\n",
       "LEAVE PAYMENT ASSESSMENTS         225\n",
       "MEDICARE                          219\n",
       "OASDI                             219\n",
       "UNEMPLOYMENT COMPENSATION         219\n",
       "UNCLASSIFIED REGULAR              213\n",
       "EDUCATIONAL INST EE RETIRE SYS    208\n",
       "GROUP HEALTH HOSPITALIZATION      207\n",
       "UNCLASS HOLIDAY INCL IN BASE      197\n",
       "PARKING COMPENSATION REDUCTION    179\n",
       "STUDENT EMPLOYEES HOURLY          160\n",
       "ED INST EE GRP LIFE DISABILITY    156\n",
       "PUBLIC EE RETIREMENT SYSTEM       154\n",
       "PRO SCIENTIFIC SUPPLY OTHER       134\n",
       "STATIONERY AND OFFICE SUPPLIES    131\n",
       "CLASSIFIED REGULAR                126\n",
       "DATA PROCESSING SUPPLIES          126\n",
       "OTHER PROFESSIONAL FEES           121\n",
       "PRINTING AND COPYING              115\n",
       "BLDGS AND GROUNDS MATERIALS       113\n",
       "CLASS HOLIDAY INCL IN BASE        112\n",
       "MEALS AND LODGING OUT STATE       112\n",
       "JOB RELATED TRAIN & CONF REG      110\n",
       "UNCLASS HOL NOT INCL IN BASE      109\n",
       "NON SUBSISTENCE OUT STATE         105\n",
       "UNCLASSIFIED TEMPORARY            105\n",
       "MICROCOMPUTER EQUIP NON CAP       104\n",
       "AIR RAIL & BUS FARE OUT STATE     103\n",
       "HOUSEHOLD SUPPLIES                101\n",
       "                                 ... \n",
       "OTHER EQUIPMENT                     2\n",
       "LAND RENTAL                         2\n",
       "SELF PROP SVC WASH                  2\n",
       "TELECOM TRANSMISSION NON CAP        2\n",
       "HEALTH PROFESSION STUDENT LOAN      2\n",
       "DATA COMM EQUIP NON CAP             2\n",
       "HYDRAULIC OIL                       2\n",
       "BIO-DIESEL                          2\n",
       "AG EQUIP AND MACHINERY              2\n",
       "FCIP-PRINCIPAL-BI-C/I               1\n",
       "ADVERTISING AND MARKETING           1\n",
       "FCIP-INTEREST-BI-C/I                1\n",
       "SELF PROP TIRE REPAIR INSTALL       1\n",
       "INTERGOV POSTAGE OP OITS            1\n",
       "PASSENGER CARS- NON-INVENTORY       1\n",
       "LAB RANDOM ALCOHOL TEST             1\n",
       "STATE CAR EXPENSE-INTERNATL         1\n",
       "RETURN OF UNEXPENDED FED GRANT      1\n",
       "TRUCKS NON CAP                      1\n",
       "ATTORNEYS AND LAWYERS               1\n",
       "HOSPITALS AND NURSING HOMES         1\n",
       "SELF PROPELLED EQUIP NON CAP        1\n",
       "TELECOM SWITCHING NON CAP           1\n",
       "ASSIGNED COUNSEL-CNTRCT LAWYER      1\n",
       "INTERGOV LCL COMM SVC OP OITS       1\n",
       "LOAN INTEREST                       1\n",
       "MOVING EE PERS EFFECTS IN ST        1\n",
       "OTHER CLAIMS                        1\n",
       "ER KPERS WAR 3RD PTY/CNSLNT         1\n",
       "ENROLL FEES SPONS INST GRANT        1\n",
       "Name: Detail_Account_Code_Descr, Length: 242, dtype: int64"
      ]
     },
     "execution_count": 155,
     "metadata": {},
     "output_type": "execute_result"
    }
   ],
   "source": [
    "expenditure2.Detail_Account_Code_Descr.value_counts()"
   ]
  },
  {
   "cell_type": "code",
   "execution_count": 164,
   "metadata": {},
   "outputs": [
    {
     "name": "stdout",
     "output_type": "stream",
     "text": [
      "<class 'pandas.core.frame.DataFrame'>\n",
      "Int64Index: 3623 entries, 1 to 10518\n",
      "Data columns (total 22 columns):\n",
      "Fiscal_Year                        3623 non-null int64\n",
      "Fiscal_Quarter                     3623 non-null int64\n",
      "Business_Unit                      3623 non-null int64\n",
      "Business_Unit_Descr                3623 non-null object\n",
      "GAAP_Fund_Type                     3623 non-null int64\n",
      "GAAP_Fund_Type_Descr               3623 non-null object\n",
      "Fund_Code                          3623 non-null int64\n",
      "Fund_Code_Descr                    3623 non-null object\n",
      "Budget_Ref                         3623 non-null int64\n",
      "Budget_Ref_Descr                   3623 non-null object\n",
      "Program_Code                       3623 non-null int64\n",
      "Program_Code_Descr                 3623 non-null object\n",
      "State_Function                     3623 non-null int64\n",
      "State_Function_Descr               3623 non-null object\n",
      "Primary_Account_Code               3623 non-null int64\n",
      "Primary_Account_Code_Descr         3623 non-null object\n",
      "Intermediate_Account_Code          3623 non-null int64\n",
      "Intermediate_Account_Code_Descr    3623 non-null object\n",
      "Detail_Account_Code                3623 non-null int64\n",
      "Detail_Account_Code_Descr          3623 non-null object\n",
      "Total                              3623 non-null float64\n",
      "Unnamed: 21                        0 non-null float64\n",
      "dtypes: float64(2), int64(11), object(9)\n",
      "memory usage: 651.0+ KB\n"
     ]
    }
   ],
   "source": [
    "data3.info()"
   ]
  },
  {
   "cell_type": "markdown",
   "metadata": {},
   "source": [
    "<b>Answer:</b> The cost breakdown should be related to salaries and wages."
   ]
  },
  {
   "cell_type": "markdown",
   "metadata": {},
   "source": [
    "### Q10: Compare the breakdown costs from Q9 side by side.\n",
    "When you merge the two subsets, make sure to add the attribute <b>how =\"outer\"</b> so that you can keep every item from both sets.\n",
    "*For example: merge = pd.merge(df1, df2, how=\"outer\", on=\"columnname\")"
   ]
  },
  {
   "cell_type": "code",
   "execution_count": 162,
   "metadata": {},
   "outputs": [],
   "source": [
    "merged = pd.merge(data2, data3, on=\"Primary_Account_Code_Descr\")"
   ]
  },
  {
   "cell_type": "code",
   "execution_count": 161,
   "metadata": {},
   "outputs": [
    {
     "data": {
      "text/html": [
       "<div>\n",
       "<style scoped>\n",
       "    .dataframe tbody tr th:only-of-type {\n",
       "        vertical-align: middle;\n",
       "    }\n",
       "\n",
       "    .dataframe tbody tr th {\n",
       "        vertical-align: top;\n",
       "    }\n",
       "\n",
       "    .dataframe thead th {\n",
       "        text-align: right;\n",
       "    }\n",
       "</style>\n",
       "<table border=\"1\" class=\"dataframe\">\n",
       "  <thead>\n",
       "    <tr style=\"text-align: right;\">\n",
       "      <th></th>\n",
       "      <th>Fiscal_Year_x</th>\n",
       "      <th>Fiscal_Quarter_x</th>\n",
       "      <th>Business_Unit_x</th>\n",
       "      <th>Business_Unit_Descr_x</th>\n",
       "      <th>GAAP_Fund_Type_x</th>\n",
       "      <th>GAAP_Fund_Type_Descr_x</th>\n",
       "      <th>Fund_Code_x</th>\n",
       "      <th>Fund_Code_Descr_x</th>\n",
       "      <th>Budget_Ref_x</th>\n",
       "      <th>Budget_Ref_Descr_x</th>\n",
       "      <th>...</th>\n",
       "      <th>Program_Code_Descr_y</th>\n",
       "      <th>State_Function_y</th>\n",
       "      <th>State_Function_Descr_y</th>\n",
       "      <th>Primary_Account_Code_y</th>\n",
       "      <th>Intermediate_Account_Code_y</th>\n",
       "      <th>Intermediate_Account_Code_Descr_y</th>\n",
       "      <th>Detail_Account_Code_y</th>\n",
       "      <th>Detail_Account_Code_Descr_y</th>\n",
       "      <th>Total_y</th>\n",
       "      <th>Unnamed: 21_y</th>\n",
       "    </tr>\n",
       "  </thead>\n",
       "  <tbody>\n",
       "    <tr>\n",
       "      <th>0</th>\n",
       "      <td>2018</td>\n",
       "      <td>1</td>\n",
       "      <td>367</td>\n",
       "      <td>Kansas State University</td>\n",
       "      <td>12</td>\n",
       "      <td>Component Unit</td>\n",
       "      <td>3047</td>\n",
       "      <td>SMITH-LEVER SPEC PRG GRNT FDF</td>\n",
       "      <td>1330</td>\n",
       "      <td>SMITH-LEVER SPEC PRG GRNT FDF                 ...</td>\n",
       "      <td>...</td>\n",
       "      <td>Academic Support</td>\n",
       "      <td>3</td>\n",
       "      <td>Education                                     ...</td>\n",
       "      <td>5100</td>\n",
       "      <td>51000</td>\n",
       "      <td>SALARIES AND WAGES</td>\n",
       "      <td>511100</td>\n",
       "      <td>UNCLASSIFIED REGULAR</td>\n",
       "      <td>2908.660</td>\n",
       "      <td>nan</td>\n",
       "    </tr>\n",
       "    <tr>\n",
       "      <th>1</th>\n",
       "      <td>2018</td>\n",
       "      <td>1</td>\n",
       "      <td>367</td>\n",
       "      <td>Kansas State University</td>\n",
       "      <td>12</td>\n",
       "      <td>Component Unit</td>\n",
       "      <td>3047</td>\n",
       "      <td>SMITH-LEVER SPEC PRG GRNT FDF</td>\n",
       "      <td>1330</td>\n",
       "      <td>SMITH-LEVER SPEC PRG GRNT FDF                 ...</td>\n",
       "      <td>...</td>\n",
       "      <td>Academic Support</td>\n",
       "      <td>3</td>\n",
       "      <td>Education                                     ...</td>\n",
       "      <td>5100</td>\n",
       "      <td>51000</td>\n",
       "      <td>SALARIES AND WAGES</td>\n",
       "      <td>517600</td>\n",
       "      <td>LEAVE PAYMENT ASSESSMENTS</td>\n",
       "      <td>21.810</td>\n",
       "      <td>nan</td>\n",
       "    </tr>\n",
       "    <tr>\n",
       "      <th>2</th>\n",
       "      <td>2018</td>\n",
       "      <td>1</td>\n",
       "      <td>367</td>\n",
       "      <td>Kansas State University</td>\n",
       "      <td>12</td>\n",
       "      <td>Component Unit</td>\n",
       "      <td>3047</td>\n",
       "      <td>SMITH-LEVER SPEC PRG GRNT FDF</td>\n",
       "      <td>1330</td>\n",
       "      <td>SMITH-LEVER SPEC PRG GRNT FDF                 ...</td>\n",
       "      <td>...</td>\n",
       "      <td>Academic Support</td>\n",
       "      <td>3</td>\n",
       "      <td>Education                                     ...</td>\n",
       "      <td>5100</td>\n",
       "      <td>51000</td>\n",
       "      <td>SALARIES AND WAGES</td>\n",
       "      <td>517800</td>\n",
       "      <td>PARKING COMPENSATION REDUCTION</td>\n",
       "      <td>0.920</td>\n",
       "      <td>nan</td>\n",
       "    </tr>\n",
       "    <tr>\n",
       "      <th>3</th>\n",
       "      <td>2018</td>\n",
       "      <td>1</td>\n",
       "      <td>367</td>\n",
       "      <td>Kansas State University</td>\n",
       "      <td>12</td>\n",
       "      <td>Component Unit</td>\n",
       "      <td>3047</td>\n",
       "      <td>SMITH-LEVER SPEC PRG GRNT FDF</td>\n",
       "      <td>1330</td>\n",
       "      <td>SMITH-LEVER SPEC PRG GRNT FDF                 ...</td>\n",
       "      <td>...</td>\n",
       "      <td>Academic Support</td>\n",
       "      <td>3</td>\n",
       "      <td>Education                                     ...</td>\n",
       "      <td>5100</td>\n",
       "      <td>51000</td>\n",
       "      <td>SALARIES AND WAGES</td>\n",
       "      <td>518300</td>\n",
       "      <td>EDUCATIONAL INST EE RETIRE SYS</td>\n",
       "      <td>247.230</td>\n",
       "      <td>nan</td>\n",
       "    </tr>\n",
       "    <tr>\n",
       "      <th>4</th>\n",
       "      <td>2018</td>\n",
       "      <td>1</td>\n",
       "      <td>367</td>\n",
       "      <td>Kansas State University</td>\n",
       "      <td>12</td>\n",
       "      <td>Component Unit</td>\n",
       "      <td>3047</td>\n",
       "      <td>SMITH-LEVER SPEC PRG GRNT FDF</td>\n",
       "      <td>1330</td>\n",
       "      <td>SMITH-LEVER SPEC PRG GRNT FDF                 ...</td>\n",
       "      <td>...</td>\n",
       "      <td>Academic Support</td>\n",
       "      <td>3</td>\n",
       "      <td>Education                                     ...</td>\n",
       "      <td>5100</td>\n",
       "      <td>51000</td>\n",
       "      <td>SALARIES AND WAGES</td>\n",
       "      <td>519101</td>\n",
       "      <td>MEDICARE</td>\n",
       "      <td>41.160</td>\n",
       "      <td>nan</td>\n",
       "    </tr>\n",
       "  </tbody>\n",
       "</table>\n",
       "<p>5 rows × 43 columns</p>\n",
       "</div>"
      ],
      "text/plain": [
       "   Fiscal_Year_x  Fiscal_Quarter_x  Business_Unit_x  \\\n",
       "0           2018                 1              367   \n",
       "1           2018                 1              367   \n",
       "2           2018                 1              367   \n",
       "3           2018                 1              367   \n",
       "4           2018                 1              367   \n",
       "\n",
       "            Business_Unit_Descr_x  GAAP_Fund_Type_x  \\\n",
       "0  Kansas State University                       12   \n",
       "1  Kansas State University                       12   \n",
       "2  Kansas State University                       12   \n",
       "3  Kansas State University                       12   \n",
       "4  Kansas State University                       12   \n",
       "\n",
       "           GAAP_Fund_Type_Descr_x  Fund_Code_x  \\\n",
       "0  Component Unit                         3047   \n",
       "1  Component Unit                         3047   \n",
       "2  Component Unit                         3047   \n",
       "3  Component Unit                         3047   \n",
       "4  Component Unit                         3047   \n",
       "\n",
       "                Fund_Code_Descr_x  Budget_Ref_x  \\\n",
       "0  SMITH-LEVER SPEC PRG GRNT FDF           1330   \n",
       "1  SMITH-LEVER SPEC PRG GRNT FDF           1330   \n",
       "2  SMITH-LEVER SPEC PRG GRNT FDF           1330   \n",
       "3  SMITH-LEVER SPEC PRG GRNT FDF           1330   \n",
       "4  SMITH-LEVER SPEC PRG GRNT FDF           1330   \n",
       "\n",
       "                                  Budget_Ref_Descr_x  ...  \\\n",
       "0  SMITH-LEVER SPEC PRG GRNT FDF                 ...  ...   \n",
       "1  SMITH-LEVER SPEC PRG GRNT FDF                 ...  ...   \n",
       "2  SMITH-LEVER SPEC PRG GRNT FDF                 ...  ...   \n",
       "3  SMITH-LEVER SPEC PRG GRNT FDF                 ...  ...   \n",
       "4  SMITH-LEVER SPEC PRG GRNT FDF                 ...  ...   \n",
       "\n",
       "             Program_Code_Descr_y State_Function_y  \\\n",
       "0  Academic Support                              3   \n",
       "1  Academic Support                              3   \n",
       "2  Academic Support                              3   \n",
       "3  Academic Support                              3   \n",
       "4  Academic Support                              3   \n",
       "\n",
       "                              State_Function_Descr_y Primary_Account_Code_y  \\\n",
       "0  Education                                     ...                   5100   \n",
       "1  Education                                     ...                   5100   \n",
       "2  Education                                     ...                   5100   \n",
       "3  Education                                     ...                   5100   \n",
       "4  Education                                     ...                   5100   \n",
       "\n",
       "   Intermediate_Account_Code_y Intermediate_Account_Code_Descr_y  \\\n",
       "0                        51000    SALARIES AND WAGES               \n",
       "1                        51000    SALARIES AND WAGES               \n",
       "2                        51000    SALARIES AND WAGES               \n",
       "3                        51000    SALARIES AND WAGES               \n",
       "4                        51000    SALARIES AND WAGES               \n",
       "\n",
       "   Detail_Account_Code_y     Detail_Account_Code_Descr_y  Total_y  \\\n",
       "0                 511100  UNCLASSIFIED REGULAR           2908.660   \n",
       "1                 517600  LEAVE PAYMENT ASSESSMENTS        21.810   \n",
       "2                 517800  PARKING COMPENSATION REDUCTION    0.920   \n",
       "3                 518300  EDUCATIONAL INST EE RETIRE SYS  247.230   \n",
       "4                 519101  MEDICARE                         41.160   \n",
       "\n",
       "  Unnamed: 21_y  \n",
       "0           nan  \n",
       "1           nan  \n",
       "2           nan  \n",
       "3           nan  \n",
       "4           nan  \n",
       "\n",
       "[5 rows x 43 columns]"
      ]
     },
     "execution_count": 161,
     "metadata": {},
     "output_type": "execute_result"
    }
   ],
   "source": [
    "merged.head()"
   ]
  },
  {
   "cell_type": "markdown",
   "metadata": {},
   "source": [
    "<b>Answer:</b>"
   ]
  },
  {
   "cell_type": "markdown",
   "metadata": {},
   "source": [
    "## III. BONUS QUESTIONS\n",
    "* Each question's worth 15 points.\n"
   ]
  },
  {
   "cell_type": "markdown",
   "metadata": {},
   "source": [
    "### B1: Which university made a profit in the fiscal year of 2018?"
   ]
  },
  {
   "cell_type": "code",
   "execution_count": 166,
   "metadata": {},
   "outputs": [
    {
     "data": {
      "text/plain": [
       "0.8387372381406301"
      ]
     },
     "execution_count": 166,
     "metadata": {},
     "output_type": "execute_result"
    }
   ],
   "source": [
    "854324643.84/1018584373.02"
   ]
  },
  {
   "cell_type": "code",
   "execution_count": 167,
   "metadata": {},
   "outputs": [
    {
     "data": {
      "text/plain": [
       "0.8167402052881316"
      ]
     },
     "execution_count": 167,
     "metadata": {},
     "output_type": "execute_result"
    }
   ],
   "source": [
    "808767902.55/990238875.6099999"
   ]
  },
  {
   "cell_type": "markdown",
   "metadata": {},
   "source": [
    "<b>Answer:</b> Kansas state university."
   ]
  },
  {
   "cell_type": "markdown",
   "metadata": {},
   "source": [
    "### B2: Which software program do you like the most in this course? Why?"
   ]
  },
  {
   "cell_type": "markdown",
   "metadata": {},
   "source": [
    "<b>Answer:</b> I prefer using tableau and google sheet. Because it is convenience and easily to use to creat charts and clearn data."
   ]
  },
  {
   "cell_type": "markdown",
   "metadata": {},
   "source": [
    "### END OF THE TEST"
   ]
  }
 ],
 "metadata": {
  "kernelspec": {
   "display_name": "Python 2",
   "language": "python",
   "name": "python2"
  },
  "language_info": {
   "codemirror_mode": {
    "name": "ipython",
    "version": 2
   },
   "file_extension": ".py",
   "mimetype": "text/x-python",
   "name": "python",
   "nbconvert_exporter": "python",
   "pygments_lexer": "ipython2",
   "version": "2.7.10"
  }
 },
 "nbformat": 4,
 "nbformat_minor": 2
}
